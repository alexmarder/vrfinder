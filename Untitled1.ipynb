{
 "cells": [
  {
   "cell_type": "code",
   "execution_count": 1,
   "metadata": {},
   "outputs": [],
   "source": [
    "import bz2\n",
    "from traceutils.file2.file2 import File2\n",
    "import json\n",
    "from traceutils.scamper.atlas import AtlasReader\n",
    "from itertools import islice"
   ]
  },
  {
   "cell_type": "code",
   "execution_count": 2,
   "metadata": {},
   "outputs": [
    {
     "data": {
      "text/plain": [
       "01: 203.118.139.178"
      ]
     },
     "execution_count": 2,
     "metadata": {},
     "output_type": "execute_result"
    }
   ],
   "source": [
    "with AtlasReader('traceroute-v4-builtin-2017-08-16.txt.bz2') as f:\n",
    "    for trace in f:\n",
    "        pass\n",
    "trace"
   ]
  },
  {
   "cell_type": "code",
   "execution_count": null,
   "metadata": {},
   "outputs": [],
   "source": [
    "trace"
   ]
  },
  {
   "cell_type": "code",
   "execution_count": null,
   "metadata": {},
   "outputs": [],
   "source": []
  },
  {
   "cell_type": "code",
   "execution_count": null,
   "metadata": {},
   "outputs": [],
   "source": []
  },
  {
   "cell_type": "code",
   "execution_count": 3,
   "metadata": {},
   "outputs": [],
   "source": [
    "with bz2.open('traceroute-v4-builtin-2017-08-16.txt.bz2') as f:\n",
    "    for line in f:\n",
    "        j = json.loads(line)\n",
    "        break"
   ]
  },
  {
   "cell_type": "code",
   "execution_count": 4,
   "metadata": {},
   "outputs": [
    {
     "data": {
      "text/plain": [
       "{'af': 4,\n",
       " 'dst_addr': '192.36.148.17',\n",
       " 'dst_name': '192.36.148.17',\n",
       " 'endtime': 1502841604,\n",
       " 'from': '109.129.178.28',\n",
       " 'fw': 4790,\n",
       " 'lts': 41,\n",
       " 'msm_id': 5005,\n",
       " 'msm_name': 'Traceroute',\n",
       " 'paris_id': 0,\n",
       " 'prb_id': 2355,\n",
       " 'proto': 'UDP',\n",
       " 'result': [{'hop': 1,\n",
       "   'result': [{'from': '192.168.50.1', 'rtt': 1.896, 'size': 28, 'ttl': 64},\n",
       "    {'from': '192.168.50.1', 'rtt': 1.639, 'size': 28, 'ttl': 64},\n",
       "    {'from': '192.168.50.1', 'rtt': 1.652, 'size': 28, 'ttl': 64}]},\n",
       "  {'hop': 2,\n",
       "   'result': [{'from': '62.4.214.1',\n",
       "     'ittl': 0,\n",
       "     'rtt': 20.107,\n",
       "     'size': 52,\n",
       "     'ttl': 254},\n",
       "    {'from': '62.4.214.1', 'ittl': 0, 'rtt': 20.543, 'size': 52, 'ttl': 254},\n",
       "    {'from': '62.4.214.1', 'ittl': 0, 'rtt': 20.212, 'size': 52, 'ttl': 254}]},\n",
       "  {'hop': 3,\n",
       "   'result': [{'from': '91.183.241.220',\n",
       "     'rtt': 23.307,\n",
       "     'size': 28,\n",
       "     'ttl': 253},\n",
       "    {'from': '91.183.241.220', 'rtt': 21.247, 'size': 28, 'ttl': 253},\n",
       "    {'from': '91.183.241.220', 'rtt': 20.312, 'size': 28, 'ttl': 253}]},\n",
       "  {'hop': 4,\n",
       "   'result': [{'from': '91.183.246.114',\n",
       "     'rtt': 20.446,\n",
       "     'size': 28,\n",
       "     'ttl': 252},\n",
       "    {'from': '91.183.246.114', 'rtt': 23.024, 'size': 28, 'ttl': 252},\n",
       "    {'from': '91.183.246.114', 'rtt': 20.246, 'size': 28, 'ttl': 252}]},\n",
       "  {'hop': 5,\n",
       "   'result': [{'from': '194.53.172.99', 'rtt': 20.62, 'size': 68, 'ttl': 59},\n",
       "    {'from': '194.53.172.99', 'rtt': 23.205, 'size': 68, 'ttl': 59},\n",
       "    {'from': '194.53.172.99', 'rtt': 20.253, 'size': 68, 'ttl': 59}]},\n",
       "  {'hop': 6,\n",
       "   'result': [{'from': '192.36.148.17', 'rtt': 20.361, 'size': 68, 'ttl': 58},\n",
       "    {'from': '192.36.148.17', 'rtt': 20.476, 'size': 68, 'ttl': 58},\n",
       "    {'from': '192.36.148.17', 'rtt': 20.431, 'size': 68, 'ttl': 58}]}],\n",
       " 'size': 40,\n",
       " 'src_addr': '192.168.50.11',\n",
       " 'timestamp': 1502841603,\n",
       " 'type': 'traceroute'}"
      ]
     },
     "execution_count": 4,
     "metadata": {},
     "output_type": "execute_result"
    }
   ],
   "source": [
    "j"
   ]
  },
  {
   "cell_type": "code",
   "execution_count": null,
   "metadata": {},
   "outputs": [],
   "source": []
  }
 ],
 "metadata": {
  "kernelspec": {
   "display_name": "Python [conda env:hone]",
   "language": "python",
   "name": "conda-env-hone-py"
  },
  "language_info": {
   "codemirror_mode": {
    "name": "ipython",
    "version": 3
   },
   "file_extension": ".py",
   "mimetype": "text/x-python",
   "name": "python",
   "nbconvert_exporter": "python",
   "pygments_lexer": "ipython3",
   "version": "3.7.2"
  }
 },
 "nbformat": 4,
 "nbformat_minor": 2
}
